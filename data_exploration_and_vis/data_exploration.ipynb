{
 "cells": [
  {
   "cell_type": "code",
   "execution_count": 1,
   "metadata": {},
   "outputs": [],
   "source": [
    "import faiss\n",
    "import os\n",
    "import pandas as pd\n",
    "import numpy \n",
    "import glob\n",
    "import numpy as np\n",
    "from skimage import measure"
   ]
  },
  {
   "cell_type": "code",
   "execution_count": 2,
   "metadata": {},
   "outputs": [],
   "source": [
    "NPZ_DELF_FEAT_SRC = \"/local/cs572/rchan31/codespace/BaselinePrototype/npz_file_saves/COMPACT_NPZ_DELF_FEATS/\"\n",
    "DELF_FEAT_SRC = \"/local/cs572/rchan31/codespace/DELF_FEATURE_EXTRACTION/DELF_FEATURES/\""
   ]
  },
  {
   "cell_type": "code",
   "execution_count": 3,
   "metadata": {},
   "outputs": [],
   "source": [
    "npz_delf_feat_files = sorted(glob.glob(os.path.join(NPZ_DELF_FEAT_SRC, \"*.npz\"))) # 952134\n",
    "delf_feat_files = sorted(glob.glob(os.path.join(DELF_FEAT_SRC, \"*.delf\"))) # 952134"
   ]
  },
  {
   "cell_type": "code",
   "execution_count": 6,
   "metadata": {},
   "outputs": [
    {
     "name": "stdout",
     "output_type": "stream",
     "text": [
      "len of npz_delf_feat_files :  952133\n",
      "len. of delf_feat_files :  952134\n",
      "missing file at index 413692 with filename : 6f5819e00cdd1acb.delf\n"
     ]
    }
   ],
   "source": [
    "print(\"len of npz_delf_feat_files : \", len(npz_delf_feat_files))\n",
    "print(\"len. of delf_feat_files : \", len(delf_feat_files))\n",
    "print(\"missing file at index %s with filename : %s\" % (413692, delf_feat_files[413692].split(\"/\")[-1]))\n",
    "# NPZ is missing one file"
   ]
  },
  {
   "cell_type": "markdown",
   "metadata": {},
   "source": [
    "# generate retrieval_solution available samples"
   ]
  },
  {
   "cell_type": "code",
   "execution_count": 59,
   "metadata": {},
   "outputs": [],
   "source": [
    "PROCESSED_RETRIEVAL_SOLUTION_CSV = \"/local/cs572/rchan31/fINALwEEK/csv_lookups/processed_retrieval_solutions.csv\""
   ]
  },
  {
   "cell_type": "code",
   "execution_count": 12,
   "metadata": {},
   "outputs": [
    {
     "data": {
      "text/plain": [
       "(667, 40)"
      ]
     },
     "execution_count": 12,
     "metadata": {},
     "output_type": "execute_result"
    }
   ],
   "source": [
    "# find out available test images and their test image-features\n",
    "quer_vecs = []\n",
    "quer_ids = {}\n",
    "for i, fn in enumerate(glob.glob('./COMPACT_NPZ_DELF_test_FEATS/*.npz')):\n",
    "    ID = os.path.basename(fn)[:-4]\n",
    "    vec = np.load(fn)[\"descriptors\"]\n",
    "    quer_vecs.append(np.asarray(vec[0, :], dtype=np.float32))\n",
    "    quer_ids[i] = ID\n",
    "quer_vecs = np.array(quer_vecs)\n",
    "\n",
    "quer_vecs.shape"
   ]
  },
  {
   "cell_type": "code",
   "execution_count": 20,
   "metadata": {},
   "outputs": [
    {
     "data": {
      "text/plain": [
       "(667, 3)"
      ]
     },
     "execution_count": 20,
     "metadata": {},
     "output_type": "execute_result"
    }
   ],
   "source": [
    "all_ret_solution_df = pd.read_csv('/local/cs572/cziems/google-landmarks/retrieval_solution.csv')\n",
    "\n",
    "solution_df = all_ret_solution_df[[ID in quer_ids.values() for ID in all_ret_solution_df['id']]]\n",
    "\n",
    "solution_df.shape # (667, 3)"
   ]
  },
  {
   "cell_type": "code",
   "execution_count": 50,
   "metadata": {},
   "outputs": [
    {
     "data": {
      "text/plain": [
       "(667, 100)"
      ]
     },
     "execution_count": 50,
     "metadata": {},
     "output_type": "execute_result"
    }
   ],
   "source": [
    "retrieved_img_answers = set()\n",
    "max_len = 0\n",
    "solution_pairs = []\n",
    "for sol in solution_df['images']:\n",
    "    retrieved = sol.split(\" \")\n",
    "    \n",
    "    max_len = max(0, len(set(retrieved)))\n",
    "    retrieved_img_answers.update(set(retrieved))\n",
    "    \n",
    "    sol_arr = np.array(retrieved[:100] + ['None']*(100-len(retrieved[:100])))\n",
    "    solution_pairs.append(sol_arr)\n",
    "    \n",
    "\n",
    "solution_pairs = np.array(solution_pairs)\n",
    "solution_pairs.shape # (667, 100)"
   ]
  },
  {
   "cell_type": "code",
   "execution_count": 51,
   "metadata": {},
   "outputs": [
    {
     "name": "stdout",
     "output_type": "stream",
     "text": [
      "307\n",
      "507\n"
     ]
    }
   ],
   "source": [
    "print(max_len) # 307       ---> maximum length of solutions at each query-image\n",
    "print(len(answers)) # 507  ---> total number of retrieval db-images in solution"
   ]
  },
  {
   "cell_type": "code",
   "execution_count": 55,
   "metadata": {},
   "outputs": [
    {
     "data": {
      "text/html": [
       "<div>\n",
       "<style scoped>\n",
       "    .dataframe tbody tr th:only-of-type {\n",
       "        vertical-align: middle;\n",
       "    }\n",
       "\n",
       "    .dataframe tbody tr th {\n",
       "        vertical-align: top;\n",
       "    }\n",
       "\n",
       "    .dataframe thead th {\n",
       "        text-align: right;\n",
       "    }\n",
       "</style>\n",
       "<table border=\"1\" class=\"dataframe\">\n",
       "  <thead>\n",
       "    <tr style=\"text-align: right;\">\n",
       "      <th></th>\n",
       "      <th>id</th>\n",
       "      <th>0</th>\n",
       "      <th>1</th>\n",
       "      <th>2</th>\n",
       "      <th>3</th>\n",
       "      <th>4</th>\n",
       "      <th>5</th>\n",
       "      <th>6</th>\n",
       "      <th>7</th>\n",
       "      <th>8</th>\n",
       "      <th>...</th>\n",
       "      <th>90</th>\n",
       "      <th>91</th>\n",
       "      <th>92</th>\n",
       "      <th>93</th>\n",
       "      <th>94</th>\n",
       "      <th>95</th>\n",
       "      <th>96</th>\n",
       "      <th>97</th>\n",
       "      <th>98</th>\n",
       "      <th>99</th>\n",
       "    </tr>\n",
       "  </thead>\n",
       "  <tbody>\n",
       "    <tr>\n",
       "      <th>0</th>\n",
       "      <td>f60a52c609ab0208</td>\n",
       "      <td>03548a203d4b07f5</td>\n",
       "      <td>03a75dd20de880e3</td>\n",
       "      <td>04269e168c004405</td>\n",
       "      <td>04ceea28094f5758</td>\n",
       "      <td>054e6f31bdf12407</td>\n",
       "      <td>0555aac7133acbf1</td>\n",
       "      <td>057dc023b9414fe1</td>\n",
       "      <td>05a00237c243356c</td>\n",
       "      <td>0733a0a44489474d</td>\n",
       "      <td>...</td>\n",
       "      <td>3586fd1e2703fe16</td>\n",
       "      <td>35ec6ef9946e40d6</td>\n",
       "      <td>3766944fab5c3d1a</td>\n",
       "      <td>37ebb0e06f5be51f</td>\n",
       "      <td>38eba56c2498fdcf</td>\n",
       "      <td>39192a6d0d690e45</td>\n",
       "      <td>3a125000b1ea0de5</td>\n",
       "      <td>3ab34fe9d1dfcd15</td>\n",
       "      <td>3bb176e4dfd77846</td>\n",
       "      <td>3c428ddc62d721a4</td>\n",
       "    </tr>\n",
       "    <tr>\n",
       "      <th>1</th>\n",
       "      <td>4fa678d60ab4bc23</td>\n",
       "      <td>007eda76138e36e1</td>\n",
       "      <td>03edf3db543d2973</td>\n",
       "      <td>1c37cf230d45cf03</td>\n",
       "      <td>1e987a74ef9941bd</td>\n",
       "      <td>2eb8a14efa2f8724</td>\n",
       "      <td>2f3e7fe2aba15989</td>\n",
       "      <td>3869174c22bba91f</td>\n",
       "      <td>3873f493c6805bee</td>\n",
       "      <td>39fb16e9e506d285</td>\n",
       "      <td>...</td>\n",
       "      <td>None</td>\n",
       "      <td>None</td>\n",
       "      <td>None</td>\n",
       "      <td>None</td>\n",
       "      <td>None</td>\n",
       "      <td>None</td>\n",
       "      <td>None</td>\n",
       "      <td>None</td>\n",
       "      <td>None</td>\n",
       "      <td>None</td>\n",
       "    </tr>\n",
       "    <tr>\n",
       "      <th>2</th>\n",
       "      <td>5be9d8002f8dc60e</td>\n",
       "      <td>00c4c92c7a8fd255</td>\n",
       "      <td>03a7c829d0b89c83</td>\n",
       "      <td>04c5c412e3ceec4a</td>\n",
       "      <td>0a28ea1e9de51440</td>\n",
       "      <td>0b6b90750c7b328d</td>\n",
       "      <td>0c37aad42a99d536</td>\n",
       "      <td>0df10bece1f6c632</td>\n",
       "      <td>130485c0f709ef35</td>\n",
       "      <td>1679a35ef83f9333</td>\n",
       "      <td>...</td>\n",
       "      <td>None</td>\n",
       "      <td>None</td>\n",
       "      <td>None</td>\n",
       "      <td>None</td>\n",
       "      <td>None</td>\n",
       "      <td>None</td>\n",
       "      <td>None</td>\n",
       "      <td>None</td>\n",
       "      <td>None</td>\n",
       "      <td>None</td>\n",
       "    </tr>\n",
       "    <tr>\n",
       "      <th>3</th>\n",
       "      <td>0810084dfbce8ea8</td>\n",
       "      <td>08988c4cdb26f424</td>\n",
       "      <td>094a5e4ff1010550</td>\n",
       "      <td>421b161412e67a56</td>\n",
       "      <td>535c841fe0a36d1d</td>\n",
       "      <td>5ce9b333457b76e5</td>\n",
       "      <td>65313bf0521089c7</td>\n",
       "      <td>ace287038a3f52dd</td>\n",
       "      <td>b64fd516d9eebd5e</td>\n",
       "      <td>None</td>\n",
       "      <td>...</td>\n",
       "      <td>None</td>\n",
       "      <td>None</td>\n",
       "      <td>None</td>\n",
       "      <td>None</td>\n",
       "      <td>None</td>\n",
       "      <td>None</td>\n",
       "      <td>None</td>\n",
       "      <td>None</td>\n",
       "      <td>None</td>\n",
       "      <td>None</td>\n",
       "    </tr>\n",
       "    <tr>\n",
       "      <th>4</th>\n",
       "      <td>bb8ca55b60e8cff4</td>\n",
       "      <td>1e1533bb6e455633</td>\n",
       "      <td>1e58c6380e4db235</td>\n",
       "      <td>373e487e2562f02e</td>\n",
       "      <td>522d403681efdfee</td>\n",
       "      <td>5d30abd250225062</td>\n",
       "      <td>7b94bb1f87773b98</td>\n",
       "      <td>7ee82dfb4eaa3668</td>\n",
       "      <td>ad2ecd8c4a2d02d1</td>\n",
       "      <td>afe66a1f9cf8f8d9</td>\n",
       "      <td>...</td>\n",
       "      <td>None</td>\n",
       "      <td>None</td>\n",
       "      <td>None</td>\n",
       "      <td>None</td>\n",
       "      <td>None</td>\n",
       "      <td>None</td>\n",
       "      <td>None</td>\n",
       "      <td>None</td>\n",
       "      <td>None</td>\n",
       "      <td>None</td>\n",
       "    </tr>\n",
       "  </tbody>\n",
       "</table>\n",
       "<p>5 rows × 101 columns</p>\n",
       "</div>"
      ],
      "text/plain": [
       "                 id                 0                 1                 2  \\\n",
       "0  f60a52c609ab0208  03548a203d4b07f5  03a75dd20de880e3  04269e168c004405   \n",
       "1  4fa678d60ab4bc23  007eda76138e36e1  03edf3db543d2973  1c37cf230d45cf03   \n",
       "2  5be9d8002f8dc60e  00c4c92c7a8fd255  03a7c829d0b89c83  04c5c412e3ceec4a   \n",
       "3  0810084dfbce8ea8  08988c4cdb26f424  094a5e4ff1010550  421b161412e67a56   \n",
       "4  bb8ca55b60e8cff4  1e1533bb6e455633  1e58c6380e4db235  373e487e2562f02e   \n",
       "\n",
       "                  3                 4                 5                 6  \\\n",
       "0  04ceea28094f5758  054e6f31bdf12407  0555aac7133acbf1  057dc023b9414fe1   \n",
       "1  1e987a74ef9941bd  2eb8a14efa2f8724  2f3e7fe2aba15989  3869174c22bba91f   \n",
       "2  0a28ea1e9de51440  0b6b90750c7b328d  0c37aad42a99d536  0df10bece1f6c632   \n",
       "3  535c841fe0a36d1d  5ce9b333457b76e5  65313bf0521089c7  ace287038a3f52dd   \n",
       "4  522d403681efdfee  5d30abd250225062  7b94bb1f87773b98  7ee82dfb4eaa3668   \n",
       "\n",
       "                  7                 8  ...                90  \\\n",
       "0  05a00237c243356c  0733a0a44489474d  ...  3586fd1e2703fe16   \n",
       "1  3873f493c6805bee  39fb16e9e506d285  ...              None   \n",
       "2  130485c0f709ef35  1679a35ef83f9333  ...              None   \n",
       "3  b64fd516d9eebd5e              None  ...              None   \n",
       "4  ad2ecd8c4a2d02d1  afe66a1f9cf8f8d9  ...              None   \n",
       "\n",
       "                 91                92                93                94  \\\n",
       "0  35ec6ef9946e40d6  3766944fab5c3d1a  37ebb0e06f5be51f  38eba56c2498fdcf   \n",
       "1              None              None              None              None   \n",
       "2              None              None              None              None   \n",
       "3              None              None              None              None   \n",
       "4              None              None              None              None   \n",
       "\n",
       "                 95                96                97                98  \\\n",
       "0  39192a6d0d690e45  3a125000b1ea0de5  3ab34fe9d1dfcd15  3bb176e4dfd77846   \n",
       "1              None              None              None              None   \n",
       "2              None              None              None              None   \n",
       "3              None              None              None              None   \n",
       "4              None              None              None              None   \n",
       "\n",
       "                 99  \n",
       "0  3c428ddc62d721a4  \n",
       "1              None  \n",
       "2              None  \n",
       "3              None  \n",
       "4              None  \n",
       "\n",
       "[5 rows x 101 columns]"
      ]
     },
     "execution_count": 55,
     "metadata": {},
     "output_type": "execute_result"
    }
   ],
   "source": [
    "df = pd.DataFrame(solution_pairs)\n",
    "df.insert(0, \"id\", solution_df[\"id\"].tolist())\n",
    "df.head()"
   ]
  },
  {
   "cell_type": "code",
   "execution_count": 60,
   "metadata": {},
   "outputs": [],
   "source": [
    "df.to_csv(PROCESSED_RETRIEVAL_SOLUTION_CSV)"
   ]
  },
  {
   "cell_type": "code",
   "execution_count": null,
   "metadata": {},
   "outputs": [],
   "source": []
  }
 ],
 "metadata": {
  "kernelspec": {
   "display_name": "Python 3",
   "language": "python",
   "name": "python3"
  },
  "language_info": {
   "codemirror_mode": {
    "name": "ipython",
    "version": 3
   },
   "file_extension": ".py",
   "mimetype": "text/x-python",
   "name": "python",
   "nbconvert_exporter": "python",
   "pygments_lexer": "ipython3",
   "version": "3.6.9"
  }
 },
 "nbformat": 4,
 "nbformat_minor": 4
}
